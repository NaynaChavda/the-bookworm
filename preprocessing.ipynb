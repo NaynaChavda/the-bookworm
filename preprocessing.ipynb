{
 "cells": [
  {
   "cell_type": "code",
   "execution_count": 1,
   "metadata": {},
   "outputs": [],
   "source": [
    "import pandas as pd\n",
    "from ftfy import fix_text\n",
    "from langdetect import detect"
   ]
  },
  {
   "cell_type": "code",
   "execution_count": 27,
   "metadata": {},
   "outputs": [
    {
     "name": "stdout",
     "output_type": "stream",
     "text": [
      "                                                  title             author  \\\n",
      "0                       The Girl with the Dragon Tattoo      Stieg Larsson   \n",
      "1                              And Then There Were None    Agatha Christie   \n",
      "2                                       Angels & Demons       Dan    Brown   \n",
      "3                                               Rebecca  Daphne du Maurier   \n",
      "4                                         In Cold Blood      Truman Capote   \n",
      "...                                                 ...                ...   \n",
      "3205                                        Moon Palace        Paul Auster   \n",
      "3206                               The Seat of the Soul         Gary Zukav   \n",
      "3207  The History of Sexuality, Volume 1: An Introdu...    Michel Foucault   \n",
      "3208                               A Fire Upon the Deep       Vernor Vinge   \n",
      "3209                                      The Blind Owl     Sadegh Hedayat   \n",
      "\n",
      "      rating                                            summary  \\\n",
      "0       4.17  Harriet Vanger, a scion of one of Sweden’s wea...   \n",
      "1       4.28  First, there were ten—a curious assortment of ...   \n",
      "2       3.95  An ancient secret brotherhood.A devastating ne...   \n",
      "3       4.25  Last night I dreamt I went to Manderley again....   \n",
      "4       4.09  On November 15, 1959, in the small town of Hol...   \n",
      "...      ...                                                ...   \n",
      "3205    3.98  Marco Stanley Fogg is an orphan, a child of th...   \n",
      "3206    4.02  A NOTE FROM THE This hardcover edition of The ...   \n",
      "3207    4.02  Michel Foucault offers an iconoclastic explora...   \n",
      "3208    4.14  Alternate Cover Edition can be found here. A F...   \n",
      "3209    3.96  Considered the most important work of modern I...   \n",
      "\n",
      "                                                 genres  \\\n",
      "0     ['Fiction', 'Mystery', 'Thriller', 'Crime', 'M...   \n",
      "1     ['Mystery', 'Fiction', 'Thriller', 'Crime', 'M...   \n",
      "2     ['Fiction', 'Mystery', 'Thriller', 'Mystery Th...   \n",
      "3     ['Fiction', 'Mystery', 'Gothic', 'Romance', 'C...   \n",
      "4     ['Nonfiction', 'Classics', 'True Crime', 'Crim...   \n",
      "...                                                 ...   \n",
      "3205  ['Fiction', 'American', 'Contemporary', 'Novel...   \n",
      "3206  ['Spirituality', 'Nonfiction', 'Self Help', 'P...   \n",
      "3207  ['Philosophy', 'Nonfiction', 'History', 'Theor...   \n",
      "3208  ['Science Fiction', 'Fiction', 'Space Opera', ...   \n",
      "3209  ['Fiction', 'Classics', 'Horror', 'Novels', 'L...   \n",
      "\n",
      "                                              cover_url  \\\n",
      "0     https://images-na.ssl-images-amazon.com/images...   \n",
      "1     https://images-na.ssl-images-amazon.com/images...   \n",
      "2     https://images-na.ssl-images-amazon.com/images...   \n",
      "3     https://images-na.ssl-images-amazon.com/images...   \n",
      "4     https://images-na.ssl-images-amazon.com/images...   \n",
      "...                                                 ...   \n",
      "3205  https://images-na.ssl-images-amazon.com/images...   \n",
      "3206  https://images-na.ssl-images-amazon.com/images...   \n",
      "3207  https://images-na.ssl-images-amazon.com/images...   \n",
      "3208  https://images-na.ssl-images-amazon.com/images...   \n",
      "3209  https://images-na.ssl-images-amazon.com/images...   \n",
      "\n",
      "                                                    url  \n",
      "0     https://www.goodreads.com/book/show/2429135.Th...  \n",
      "1     https://www.goodreads.com/book/show/16299.And_...  \n",
      "2     https://www.goodreads.com/book/show/960.Angels...  \n",
      "3     https://www.goodreads.com/book/show/17899948-r...  \n",
      "4     https://www.goodreads.com/book/show/168642.In_...  \n",
      "...                                                 ...  \n",
      "3205  https://www.goodreads.com/book/show/447.Moon_P...  \n",
      "3206  https://www.goodreads.com/book/show/119760.The...  \n",
      "3207  https://www.goodreads.com/book/show/1875.The_H...  \n",
      "3208  https://www.goodreads.com/book/show/77711.A_Fi...  \n",
      "3209  https://www.goodreads.com/book/show/45967.The_...  \n",
      "\n",
      "[3210 rows x 7 columns]\n"
     ]
    }
   ],
   "source": [
    "data = pd.read_csv('books_dataset.csv')\n",
    "df = pd.DataFrame(data)\n",
    "print(df)"
   ]
  },
  {
   "cell_type": "code",
   "execution_count": 28,
   "metadata": {},
   "outputs": [
    {
     "data": {
      "text/plain": [
       "(3210, 7)"
      ]
     },
     "execution_count": 28,
     "metadata": {},
     "output_type": "execute_result"
    }
   ],
   "source": [
    "df.shape"
   ]
  },
  {
   "cell_type": "code",
   "execution_count": 29,
   "metadata": {},
   "outputs": [
    {
     "name": "stdout",
     "output_type": "stream",
     "text": [
      "<class 'pandas.core.frame.DataFrame'>\n",
      "RangeIndex: 3210 entries, 0 to 3209\n",
      "Data columns (total 7 columns):\n",
      " #   Column     Non-Null Count  Dtype  \n",
      "---  ------     --------------  -----  \n",
      " 0   title      3190 non-null   object \n",
      " 1   author     3190 non-null   object \n",
      " 2   rating     3190 non-null   float64\n",
      " 3   summary    3190 non-null   object \n",
      " 4   genres     3160 non-null   object \n",
      " 5   cover_url  3190 non-null   object \n",
      " 6   url        3210 non-null   object \n",
      "dtypes: float64(1), object(6)\n",
      "memory usage: 175.7+ KB\n"
     ]
    }
   ],
   "source": [
    "df.info()"
   ]
  },
  {
   "cell_type": "code",
   "execution_count": 30,
   "metadata": {},
   "outputs": [
    {
     "data": {
      "text/plain": [
       "title        20\n",
       "author       20\n",
       "rating       20\n",
       "summary      20\n",
       "genres       50\n",
       "cover_url    20\n",
       "url           0\n",
       "dtype: int64"
      ]
     },
     "execution_count": 30,
     "metadata": {},
     "output_type": "execute_result"
    }
   ],
   "source": [
    "df.isna().sum()"
   ]
  },
  {
   "cell_type": "code",
   "execution_count": 31,
   "metadata": {},
   "outputs": [],
   "source": [
    "def clean_name(name):\n",
    "    if isinstance(name, str):  # Check if the entry is a string\n",
    "        try:\n",
    "            # Fix encoding issues\n",
    "            name = fix_text(name)\n",
    "            # Ensure it's English\n",
    "            if detect(name) == 'en':\n",
    "                return name\n",
    "        except:\n",
    "            return None  # Return None for entries that fail detection\n",
    "    return None  # Return None for non-string entries"
   ]
  },
  {
   "cell_type": "code",
   "execution_count": 32,
   "metadata": {},
   "outputs": [],
   "source": [
    "df['title'] = df['title'].apply(clean_name)\n",
    "\n",
    "# Remove rows with None (non-English or invalid names)\n",
    "df = df.dropna(subset=['title']).reset_index(drop=True)"
   ]
  },
  {
   "cell_type": "code",
   "execution_count": 33,
   "metadata": {},
   "outputs": [],
   "source": [
    "def clean_book_data(df):\n",
    "    # Make a copy of the dataframe to avoid modifying the original\n",
    "    df = df.copy()\n",
    "    \n",
    "    # Drop any rows with null values\n",
    "    df = df.dropna()\n",
    "    \n",
    "    # Remove duplicate rows based on all columns\n",
    "    df = df.drop_duplicates(subset=['title'], keep='first').reset_index(drop=True)\n",
    "\n",
    "    text_columns = ['title', 'author', 'summary']\n",
    "    for col in text_columns:\n",
    "        df[col] = df[col].apply(lambda x: x.encode('ascii', 'ignore').decode('ascii') if isinstance(x, str) else x)\n",
    "        df[col] = df[col].str.strip()\n",
    "    \n",
    "    # Convert rating to float\n",
    "    df['rating'] = pd.to_numeric(df['rating'], errors='coerce')\n",
    "    \n",
    "    # Remove rows where rating is not between 0 and 5\n",
    "    df = df[df['rating'].between(0, 5)]\n",
    "    \n",
    "    # Clean up URLs by removing any invalid ones\n",
    "    def is_valid_url(url):\n",
    "        return isinstance(url, str) and url.startswith('http')\n",
    "\n",
    "    df = df[df['url'].apply(is_valid_url) & df['cover_url'].apply(is_valid_url)]\n",
    "    \n",
    "    # Reset index after all the cleaning\n",
    "    df = df.reset_index(drop=True)\n",
    "    \n",
    "    return df"
   ]
  },
  {
   "cell_type": "code",
   "execution_count": 34,
   "metadata": {},
   "outputs": [
    {
     "name": "stdout",
     "output_type": "stream",
     "text": [
      "                             title           author  rating  \\\n",
      "0  The Girl with the Dragon Tattoo    Stieg Larsson    4.17   \n",
      "1         And Then There Were None  Agatha Christie    4.28   \n",
      "2                    In Cold Blood    Truman Capote    4.09   \n",
      "3                    The Godfather       Mario Puzo    4.39   \n",
      "4                 The Lovely Bones     Alice Sebold    3.86   \n",
      "\n",
      "                                             summary  \\\n",
      "0  Harriet Vanger, a scion of one of Swedens weal...   \n",
      "1  First, there were tena curious assortment of s...   \n",
      "2  On November 15, 1959, in the small town of Hol...   \n",
      "3  The Godfatherthe epic tale of crime and betray...   \n",
      "4  \"My name was Salmon, like the fish; first name...   \n",
      "\n",
      "                                              genres  \\\n",
      "0  ['Fiction', 'Mystery', 'Thriller', 'Crime', 'M...   \n",
      "1  ['Mystery', 'Fiction', 'Thriller', 'Crime', 'M...   \n",
      "2  ['Nonfiction', 'Classics', 'True Crime', 'Crim...   \n",
      "3  ['Fiction', 'Classics', 'Crime', 'Thriller', '...   \n",
      "4  ['Fiction', 'Mystery', 'Young Adult', 'Contemp...   \n",
      "\n",
      "                                           cover_url  \\\n",
      "0  https://images-na.ssl-images-amazon.com/images...   \n",
      "1  https://images-na.ssl-images-amazon.com/images...   \n",
      "2  https://images-na.ssl-images-amazon.com/images...   \n",
      "3  https://images-na.ssl-images-amazon.com/images...   \n",
      "4  https://images-na.ssl-images-amazon.com/images...   \n",
      "\n",
      "                                                 url  \n",
      "0  https://www.goodreads.com/book/show/2429135.Th...  \n",
      "1  https://www.goodreads.com/book/show/16299.And_...  \n",
      "2  https://www.goodreads.com/book/show/168642.In_...  \n",
      "3  https://www.goodreads.com/book/show/22034.The_...  \n",
      "4  https://www.goodreads.com/book/show/12232938-t...  \n"
     ]
    }
   ],
   "source": [
    "cleaned_df = clean_book_data(df)\n",
    "print(cleaned_df.head())"
   ]
  },
  {
   "cell_type": "code",
   "execution_count": 35,
   "metadata": {},
   "outputs": [
    {
     "name": "stdout",
     "output_type": "stream",
     "text": [
      "No duplicate rows found.\n"
     ]
    }
   ],
   "source": [
    "duplicates = cleaned_df[cleaned_df.duplicated(subset=['title'], keep=False)]  # Use keep=False to see all duplicates\n",
    "\n",
    "# Display duplicate rows\n",
    "if not duplicates.empty:\n",
    "    print(\"Duplicate rows found:\")\n",
    "    print(duplicates)\n",
    "else:\n",
    "    print(\"No duplicate rows found.\")"
   ]
  },
  {
   "cell_type": "code",
   "execution_count": 36,
   "metadata": {},
   "outputs": [
    {
     "data": {
      "text/plain": [
       "title        0\n",
       "author       0\n",
       "rating       0\n",
       "summary      0\n",
       "genres       0\n",
       "cover_url    0\n",
       "url          0\n",
       "dtype: int64"
      ]
     },
     "execution_count": 36,
     "metadata": {},
     "output_type": "execute_result"
    }
   ],
   "source": [
    "cleaned_df.isna().sum()"
   ]
  },
  {
   "cell_type": "code",
   "execution_count": 37,
   "metadata": {},
   "outputs": [
    {
     "data": {
      "text/plain": [
       "(1968, 7)"
      ]
     },
     "execution_count": 37,
     "metadata": {},
     "output_type": "execute_result"
    }
   ],
   "source": [
    "cleaned_df.shape"
   ]
  },
  {
   "cell_type": "code",
   "execution_count": 38,
   "metadata": {},
   "outputs": [],
   "source": [
    "cleaned_df.to_csv('cleaned_books_data.csv', index=False)"
   ]
  },
  {
   "cell_type": "code",
   "execution_count": null,
   "metadata": {},
   "outputs": [],
   "source": []
  }
 ],
 "metadata": {
  "kernelspec": {
   "display_name": "venv",
   "language": "python",
   "name": "python3"
  },
  "language_info": {
   "codemirror_mode": {
    "name": "ipython",
    "version": 3
   },
   "file_extension": ".py",
   "mimetype": "text/x-python",
   "name": "python",
   "nbconvert_exporter": "python",
   "pygments_lexer": "ipython3",
   "version": "3.11.7"
  }
 },
 "nbformat": 4,
 "nbformat_minor": 2
}
