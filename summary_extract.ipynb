{
 "cells": [
  {
   "cell_type": "code",
   "execution_count": 1,
   "metadata": {},
   "outputs": [],
   "source": [
    "import requests\n",
    "import pandas as pd"
   ]
  },
  {
   "cell_type": "code",
   "execution_count": 2,
   "metadata": {},
   "outputs": [],
   "source": [
    "import requests\n",
    "from bs4 import BeautifulSoup\n",
    "import pandas as pd\n",
    "import time\n",
    "import random\n",
    "from tqdm import tqdm\n",
    "import os\n",
    "\n",
    "class ImprovedBookScraper:\n",
    "    def __init__(self):\n",
    "        self.headers = {\n",
    "            'User-Agent': 'Mozilla/5.0 (Windows NT 10.0; Win64; x64) AppleWebKit/537.36 (KHTML, like Gecko) Chrome/91.0.4472.124 Safari/537.36'\n",
    "        }\n",
    "        self.books_data = []\n",
    "\n",
    "    def scrape_goodreads_list(self, url, num_books=10):\n",
    "        \"\"\"\n",
    "        Scrape book information from a Goodreads list page\n",
    "        \"\"\"\n",
    "        print(f\"Starting to scrape {num_books} books...\")\n",
    "        \n",
    "        try:\n",
    "            response = requests.get(url, headers=self.headers)\n",
    "            soup = BeautifulSoup(response.content, 'html.parser')\n",
    "            \n",
    "            # Find all book entries on the page\n",
    "            book_entries = soup.find_all('tr', {'itemtype': 'http://schema.org/Book'})\n",
    "            \n",
    "            if not book_entries:\n",
    "                print(\"No book entries found. The page structure might have changed.\")\n",
    "                return []\n",
    "            \n",
    "            for book in tqdm(book_entries[:num_books]):\n",
    "                try:\n",
    "                    # Extract book title and author directly from the list page\n",
    "                    title_element = book.find('span', {'itemprop': 'name'})\n",
    "                    author_element = book.find('a', {'class': 'authorName'})\n",
    "                    \n",
    "                    # Get the book's URL for detailed information\n",
    "                    title_link = book.find('a', {'class': 'bookTitle'})\n",
    "                    if title_link and 'href' in title_link.attrs:\n",
    "                        book_url = 'https://www.goodreads.com' + title_link['href']\n",
    "                        \n",
    "                        # Print current book being scraped (for debugging)\n",
    "                        print(f\"\\nScraping book: {title_element.text.strip() if title_element else 'Unknown Title'}\")\n",
    "                        \n",
    "                        # Get detailed book information\n",
    "                        book_info = self.scrape_book_page(book_url)\n",
    "                        \n",
    "                        if book_info:\n",
    "                            self.books_data.append(book_info)\n",
    "                        \n",
    "                        # Random delay between requests\n",
    "                        time.sleep(random.uniform(2, 4))\n",
    "                    \n",
    "                except Exception as e:\n",
    "                    print(f\"Error scraping book: {str(e)}\")\n",
    "                    continue\n",
    "                    \n",
    "        except Exception as e:\n",
    "            print(f\"Error scraping list page: {str(e)}\")\n",
    "        \n",
    "        return self.books_data\n",
    "\n",
    "    def scrape_book_page(self, url):\n",
    "        \"\"\"\n",
    "        Scrape detailed information from a book's page\n",
    "        \"\"\"\n",
    "        try:\n",
    "            response = requests.get(url, headers=self.headers)\n",
    "            soup = BeautifulSoup(response.content, 'html.parser')\n",
    "\n",
    "            # Print the URL being scraped (for debugging)\n",
    "            print(f\"Scraping URL: {url}\")\n",
    "\n",
    "            cover_img = (\n",
    "                soup.find('img', {'class': 'ResponsiveImage'}) or  # New Goodreads\n",
    "                soup.find('img', {'id': 'coverImage'}) or         # Old Goodreads\n",
    "                soup.find('img', {'class': 'BookCover__image'})   # Another possible class\n",
    "            )\n",
    "            \n",
    "            # Extract the highest quality image URL\n",
    "            cover_url = None\n",
    "            if cover_img and 'src' in cover_img.attrs:\n",
    "                cover_url = cover_img['src']\n",
    "                # Sometimes Goodreads uses data-src for lazy loading\n",
    "                if not cover_url or cover_url.endswith('nophoto'):\n",
    "                    cover_url = cover_img.get('data-src', '')\n",
    "                \n",
    "                # Get the largest version of the image\n",
    "                cover_url = cover_url.replace('._SX98_', '._SX500_').replace('._SY160_', '._SY750_')\n",
    "        \n",
    "            \n",
    "            # Find the book container\n",
    "            book_container = soup.find('div', {'class': 'BookPage__mainContent'})\n",
    "            \n",
    "            if not book_container:\n",
    "                print(\"Book container not found. Trying alternative selectors...\")\n",
    "            \n",
    "            # Extract book information with multiple fallback selectors\n",
    "            title = (\n",
    "                soup.find('h1', {'class': 'Text Text__title1'}) or \n",
    "                soup.find('h1', {'id': 'bookTitle'})\n",
    "            )\n",
    "            \n",
    "            author = (\n",
    "                soup.find('span', {'class': 'ContributorLink__name'}) or \n",
    "                soup.find('span', {'itemprop': 'name'})\n",
    "            )\n",
    "            \n",
    "            rating = (\n",
    "                soup.find('div', {'class': 'RatingStatistics__rating'}) or\n",
    "                soup.find('span', {'itemprop': 'ratingValue'})\n",
    "            )\n",
    "            \n",
    "            summary = (\n",
    "                soup.find('div', {'class': 'BookPageMetadataSection__description'}) or\n",
    "                soup.find('div', {'id': 'description'})\n",
    "            )\n",
    "            \n",
    "            # Extract genres (with multiple possible selectors)\n",
    "            genres = []\n",
    "            genre_elements = (\n",
    "                soup.find_all('span', {'class': 'BookPageMetadataSection__genreButton'}) or\n",
    "                soup.find_all('a', {'class': 'actionLinkLite bookPageGenreLink'})\n",
    "            )\n",
    "\n",
    "            # Extract publication year\n",
    "            # publish_year = None\n",
    "            # publication_details = soup.find('div', {'class': 'Row'}).get_text(strip=True) if soup.find('div', {'class': 'Row'}) else ''\n",
    "            # if \"Published\" in publication_details:\n",
    "            #     try:\n",
    "            #         publish_year = [int(s) for s in publication_details.split() if s.isdigit()][0]\n",
    "            #     except IndexError:\n",
    "            #         pass  # No valid year found\n",
    "            \n",
    "            # Build book information dictionary\n",
    "            book_info = {\n",
    "                'title': title.text.strip() if title else None,\n",
    "                'author': author.text.strip() if author else None,\n",
    "                'rating': rating.text.strip() if rating else None,\n",
    "                'summary': summary.text.strip() if summary else None,\n",
    "                'genres': [g.text.strip() for g in genre_elements] if genre_elements else None,\n",
    "                # 'publish_year': publish_year,\n",
    "                'cover_url': cover_url,\n",
    "                'url': url\n",
    "            }\n",
    "            \n",
    "            # Print extracted info (for debugging)\n",
    "            print(f\"Extracted title: {book_info['title']}\")\n",
    "            print(f\"Extracted author: {book_info['author']}\")\n",
    "            # print(f\"Extracted publish year: {book_info['publish_year']}\")\n",
    "            \n",
    "            return book_info\n",
    "            \n",
    "        except Exception as e:\n",
    "            print(f\"Error scraping book page {url}: {str(e)}\")\n",
    "            return None\n",
    "\n",
    "    def save_to_csv(self, filename='books_dataset.csv'):\n",
    "        \"\"\"\n",
    "        Save the scraped data to a CSV file\n",
    "        \"\"\"\n",
    "        if not self.books_data:\n",
    "            print(\"No data to save!\")\n",
    "            return\n",
    "        file_exists = os.path.exists(filename)   \n",
    "        df = pd.DataFrame(self.books_data)\n",
    "        df.to_csv(filename, mode='a', header=not file_exists, index=False, encoding='utf-8')\n",
    "        print(f\"\\nDataset saved to {filename}\")\n",
    "        print(f\"Number of books saved: {len(df)}\")\n",
    "        print(\"\\nFirst few entries:\")\n",
    "        print(df.head())\n",
    "\n",
    "# # Example usage\n",
    "# if __name__ == \"__main__\":\n",
    "#     scraper = ImprovedBookScraper()\n",
    "    \n",
    "#     # Example Goodreads list URL - replace with your actual URL\n",
    "#     list_url = \"https://www.goodreads.com/list/show/11.Best_Crime_Mystery_Books\"\n",
    "    \n",
    "#     # Scrape books\n",
    "#     books = scraper.scrape_goodreads_list(list_url, num_books=10)\n",
    "    \n",
    "#     # Save to CSV\n",
    "#     scraper.save_to_csv()"
   ]
  },
  {
   "cell_type": "code",
   "execution_count": 12,
   "metadata": {},
   "outputs": [
    {
     "name": "stdout",
     "output_type": "stream",
     "text": [
      "Starting to scrape 100 books...\n"
     ]
    },
    {
     "name": "stderr",
     "output_type": "stream",
     "text": [
      "  0%|          | 0/100 [00:00<?, ?it/s]"
     ]
    },
    {
     "name": "stdout",
     "output_type": "stream",
     "text": [
      "\n",
      "Scraping book: Motherless Brooklyn\n",
      "Scraping URL: https://www.goodreads.com/book/show/328854.Motherless_Brooklyn\n",
      "Extracted title: Motherless Brooklyn\n",
      "Extracted author: Jonathan Lethem\n"
     ]
    },
    {
     "name": "stderr",
     "output_type": "stream",
     "text": [
      "  1%|          | 1/100 [00:11<18:46, 11.38s/it]"
     ]
    },
    {
     "name": "stdout",
     "output_type": "stream",
     "text": [
      "\n",
      "Scraping book: Follow the River\n",
      "Scraping URL: https://www.goodreads.com/book/show/138872.Follow_the_River\n",
      "Extracted title: Follow the River\n",
      "Extracted author: James Alexander Thom\n"
     ]
    },
    {
     "name": "stderr",
     "output_type": "stream",
     "text": [
      "  2%|▏         | 2/100 [00:23<19:35, 11.99s/it]"
     ]
    },
    {
     "name": "stdout",
     "output_type": "stream",
     "text": [
      "\n",
      "Scraping book: Fantastic Mr. Fox\n",
      "Scraping URL: https://www.goodreads.com/book/show/6693.Fantastic_Mr_Fox\n",
      "Extracted title: Fantastic Mr. Fox\n",
      "Extracted author: Roald Dahl\n"
     ]
    },
    {
     "name": "stderr",
     "output_type": "stream",
     "text": [
      "  3%|▎         | 3/100 [00:35<19:21, 11.98s/it]"
     ]
    },
    {
     "name": "stdout",
     "output_type": "stream",
     "text": [
      "\n",
      "Scraping book: A Girl of the Limberlost (Limberlost, #2)\n",
      "Scraping URL: https://www.goodreads.com/book/show/17567.A_Girl_of_the_Limberlost\n",
      "Extracted title: A Girl of the Limberlost\n",
      "Extracted author: Gene Stratton-Porter\n"
     ]
    },
    {
     "name": "stderr",
     "output_type": "stream",
     "text": [
      "  4%|▍         | 4/100 [00:45<17:54, 11.19s/it]"
     ]
    },
    {
     "name": "stdout",
     "output_type": "stream",
     "text": [
      "\n",
      "Scraping book: Love You Forever\n",
      "Scraping URL: https://www.goodreads.com/book/show/310259.Love_You_Forever\n",
      "Extracted title: Love You Forever\n",
      "Extracted author: Robert Munsch\n"
     ]
    },
    {
     "name": "stderr",
     "output_type": "stream",
     "text": [
      "  5%|▌         | 5/100 [00:55<16:58, 10.72s/it]"
     ]
    },
    {
     "name": "stdout",
     "output_type": "stream",
     "text": [
      "\n",
      "Scraping book: A Ring of Endless Light (Austin Family Chronicles, #4)\n",
      "Scraping URL: https://www.goodreads.com/book/show/14358.A_Ring_of_Endless_Light\n",
      "Extracted title: A Ring of Endless Light\n",
      "Extracted author: Madeleine L'Engle\n"
     ]
    },
    {
     "name": "stderr",
     "output_type": "stream",
     "text": [
      "  6%|▌         | 6/100 [01:05<16:10, 10.32s/it]"
     ]
    },
    {
     "name": "stdout",
     "output_type": "stream",
     "text": [
      "\n",
      "Scraping book: QB VII\n",
      "Scraping URL: https://www.goodreads.com/book/show/426825.QB_VII\n",
      "Extracted title: QB VII\n",
      "Extracted author: Leon Uris\n"
     ]
    },
    {
     "name": "stderr",
     "output_type": "stream",
     "text": [
      "  7%|▋         | 7/100 [01:13<15:13,  9.82s/it]"
     ]
    },
    {
     "name": "stdout",
     "output_type": "stream",
     "text": [
      "\n",
      "Scraping book: Toda Mafalda\n",
      "Scraping URL: https://www.goodreads.com/book/show/54741.Toda_Mafalda\n",
      "Extracted title: Toda Mafalda\n",
      "Extracted author: Quino\n"
     ]
    },
    {
     "name": "stderr",
     "output_type": "stream",
     "text": [
      "  8%|▊         | 8/100 [01:20<13:20,  8.71s/it]"
     ]
    },
    {
     "name": "stdout",
     "output_type": "stream",
     "text": [
      "\n",
      "Scraping book: Ignorance\n",
      "Scraping URL: https://www.goodreads.com/book/show/78728.Ignorance\n",
      "Extracted title: Ignorance\n",
      "Extracted author: Milan Kundera\n"
     ]
    },
    {
     "name": "stderr",
     "output_type": "stream",
     "text": [
      "  9%|▉         | 9/100 [01:30<13:55,  9.18s/it]"
     ]
    },
    {
     "name": "stdout",
     "output_type": "stream",
     "text": [
      "\n",
      "Scraping book: The 42nd Parallel (U.S.A. #1)\n",
      "Scraping URL: https://www.goodreads.com/book/show/7101.The_42nd_Parallel\n",
      "Extracted title: The 42nd Parallel\n",
      "Extracted author: John Dos Passos\n"
     ]
    },
    {
     "name": "stderr",
     "output_type": "stream",
     "text": [
      " 10%|█         | 10/100 [01:38<13:20,  8.90s/it]"
     ]
    },
    {
     "name": "stdout",
     "output_type": "stream",
     "text": [
      "\n",
      "Scraping book: The Milagro Beanfield War\n",
      "Scraping URL: https://www.goodreads.com/book/show/39242.The_Milagro_Beanfield_War\n",
      "Extracted title: The Milagro Beanfield War\n",
      "Extracted author: John     Nichols\n"
     ]
    },
    {
     "name": "stderr",
     "output_type": "stream",
     "text": [
      " 11%|█         | 11/100 [01:47<13:06,  8.84s/it]"
     ]
    },
    {
     "name": "stdout",
     "output_type": "stream",
     "text": [
      "\n",
      "Scraping book: The City and the Stars\n",
      "Scraping URL: https://www.goodreads.com/book/show/250024.The_City_and_the_Stars\n",
      "Extracted title: The City and the Stars\n",
      "Extracted author: Arthur C. Clarke\n"
     ]
    },
    {
     "name": "stderr",
     "output_type": "stream",
     "text": [
      " 12%|█▏        | 12/100 [01:56<12:57,  8.83s/it]"
     ]
    },
    {
     "name": "stdout",
     "output_type": "stream",
     "text": [
      "\n",
      "Scraping book: Waiting\n",
      "Scraping URL: https://www.goodreads.com/book/show/235773.Waiting\n",
      "Extracted title: Waiting\n",
      "Extracted author: Ha Jin\n"
     ]
    },
    {
     "name": "stderr",
     "output_type": "stream",
     "text": [
      " 13%|█▎        | 13/100 [02:06<13:30,  9.31s/it]"
     ]
    },
    {
     "name": "stdout",
     "output_type": "stream",
     "text": [
      "\n",
      "Scraping book: Fugitive Pieces\n",
      "Scraping URL: https://www.goodreads.com/book/show/15836.Fugitive_Pieces\n",
      "Extracted title: Fugitive Pieces\n",
      "Extracted author: Anne  Michaels\n"
     ]
    },
    {
     "name": "stderr",
     "output_type": "stream",
     "text": [
      " 14%|█▍        | 14/100 [02:20<15:27, 10.78s/it]"
     ]
    },
    {
     "name": "stdout",
     "output_type": "stream",
     "text": [
      "\n",
      "Scraping book: The Chrysalids\n",
      "Scraping URL: https://www.goodreads.com/book/show/826845.The_Chrysalids\n",
      "Extracted title: The Chrysalids\n",
      "Extracted author: John Wyndham\n"
     ]
    },
    {
     "name": "stderr",
     "output_type": "stream",
     "text": [
      " 15%|█▌        | 15/100 [02:31<15:15, 10.77s/it]"
     ]
    },
    {
     "name": "stdout",
     "output_type": "stream",
     "text": [
      "\n",
      "Scraping book: The Street of Crocodiles\n",
      "Scraping URL: https://www.goodreads.com/book/show/244261.The_Street_of_Crocodiles\n",
      "Extracted title: The Street of Crocodiles\n",
      "Extracted author: Bruno Schulz\n"
     ]
    },
    {
     "name": "stderr",
     "output_type": "stream",
     "text": [
      " 16%|█▌        | 16/100 [02:41<14:38, 10.46s/it]"
     ]
    },
    {
     "name": "stdout",
     "output_type": "stream",
     "text": [
      "\n",
      "Scraping book: The Snows of Kilimanjaro and Other Stories\n",
      "Scraping URL: https://www.goodreads.com/book/show/4645.The_Snows_of_Kilimanjaro_and_Other_Stories\n",
      "Extracted title: The Snows of Kilimanjaro and Other Stories\n",
      "Extracted author: Ernest Hemingway\n"
     ]
    },
    {
     "name": "stderr",
     "output_type": "stream",
     "text": [
      " 17%|█▋        | 17/100 [02:52<14:48, 10.71s/it]"
     ]
    },
    {
     "name": "stdout",
     "output_type": "stream",
     "text": [
      "\n",
      "Scraping book: The Wretched of the Earth\n",
      "Scraping URL: https://www.goodreads.com/book/show/66933.The_Wretched_of_the_Earth\n",
      "Extracted title: The Wretched of the Earth\n",
      "Extracted author: Frantz Fanon\n"
     ]
    },
    {
     "name": "stderr",
     "output_type": "stream",
     "text": [
      " 18%|█▊        | 18/100 [03:00<13:30,  9.89s/it]"
     ]
    },
    {
     "name": "stdout",
     "output_type": "stream",
     "text": [
      "\n",
      "Scraping book: Play It As It Lays\n",
      "Scraping URL: https://www.goodreads.com/book/show/428.Play_It_As_It_Lays\n",
      "Extracted title: Play It As It Lays\n",
      "Extracted author: Joan Didion\n"
     ]
    },
    {
     "name": "stderr",
     "output_type": "stream",
     "text": [
      " 19%|█▉        | 19/100 [03:10<13:10,  9.76s/it]"
     ]
    },
    {
     "name": "stdout",
     "output_type": "stream",
     "text": [
      "\n",
      "Scraping book: Bird by Bird\n",
      "Scraping URL: https://www.goodreads.com/book/show/12543.Bird_by_Bird\n",
      "Extracted title: Bird by Bird\n",
      "Extracted author: Anne Lamott\n"
     ]
    },
    {
     "name": "stderr",
     "output_type": "stream",
     "text": [
      " 20%|██        | 20/100 [03:20<13:05,  9.81s/it]"
     ]
    },
    {
     "name": "stdout",
     "output_type": "stream",
     "text": [
      "\n",
      "Scraping book: Good Night, Mr. Tom\n",
      "Scraping URL: https://www.goodreads.com/book/show/161099.Good_Night_Mr_Tom\n",
      "Extracted title: Good Night, Mr. Tom\n",
      "Extracted author: Michelle Magorian\n"
     ]
    },
    {
     "name": "stderr",
     "output_type": "stream",
     "text": [
      " 21%|██        | 21/100 [03:27<12:05,  9.19s/it]"
     ]
    },
    {
     "name": "stdout",
     "output_type": "stream",
     "text": [
      "\n",
      "Scraping book: I'm Not Stiller\n",
      "Scraping URL: https://www.goodreads.com/book/show/265102.I_m_Not_Stiller\n",
      "Extracted title: I'm Not Stiller\n",
      "Extracted author: Max Frisch\n"
     ]
    },
    {
     "name": "stderr",
     "output_type": "stream",
     "text": [
      " 22%|██▏       | 22/100 [03:37<12:01,  9.25s/it]"
     ]
    },
    {
     "name": "stdout",
     "output_type": "stream",
     "text": [
      "\n",
      "Scraping book: The Incredible Journey\n",
      "Scraping URL: https://www.goodreads.com/book/show/231821.The_Incredible_Journey\n",
      "Extracted title: The Incredible Journey\n",
      "Extracted author: Sheila Burnford\n"
     ]
    },
    {
     "name": "stderr",
     "output_type": "stream",
     "text": [
      " 23%|██▎       | 23/100 [03:44<11:18,  8.81s/it]"
     ]
    },
    {
     "name": "stdout",
     "output_type": "stream",
     "text": [
      "\n",
      "Scraping book: In Our Time\n",
      "Scraping URL: https://www.goodreads.com/book/show/4652.In_Our_Time\n",
      "Extracted title: In Our Time\n",
      "Extracted author: Ernest Hemingway\n"
     ]
    },
    {
     "name": "stderr",
     "output_type": "stream",
     "text": [
      " 24%|██▍       | 24/100 [03:54<11:17,  8.91s/it]"
     ]
    },
    {
     "name": "stdout",
     "output_type": "stream",
     "text": [
      "\n",
      "Scraping book: Enduring Love\n",
      "Scraping URL: https://www.goodreads.com/book/show/6870.Enduring_Love\n",
      "Extracted title: Enduring Love\n",
      "Extracted author: Ian McEwan\n"
     ]
    },
    {
     "name": "stderr",
     "output_type": "stream",
     "text": [
      " 25%|██▌       | 25/100 [04:04<11:38,  9.31s/it]"
     ]
    },
    {
     "name": "stdout",
     "output_type": "stream",
     "text": [
      "\n",
      "Scraping book: At Home in Mitford (Mitford Years, #1)\n",
      "Scraping URL: https://www.goodreads.com/book/show/71776.At_Home_in_Mitford\n",
      "Extracted title: At Home in Mitford\n",
      "Extracted author: Jan Karon\n"
     ]
    },
    {
     "name": "stderr",
     "output_type": "stream",
     "text": [
      " 26%|██▌       | 26/100 [04:13<11:19,  9.18s/it]"
     ]
    },
    {
     "name": "stdout",
     "output_type": "stream",
     "text": [
      "\n",
      "Scraping book: Pawn of Prophecy (The Belgariad, #1)\n",
      "Scraping URL: https://www.goodreads.com/book/show/44659.Pawn_of_Prophecy\n",
      "Extracted title: Pawn of Prophecy\n",
      "Extracted author: David Eddings\n"
     ]
    },
    {
     "name": "stderr",
     "output_type": "stream",
     "text": [
      " 27%|██▋       | 27/100 [04:25<12:10, 10.01s/it]"
     ]
    },
    {
     "name": "stdout",
     "output_type": "stream",
     "text": [
      "\n",
      "Scraping book: The Civil War: A Narrative\n",
      "Scraping URL: https://www.goodreads.com/book/show/44234.The_Civil_War\n",
      "Extracted title: The Civil War: A Narrative\n",
      "Extracted author: Shelby Foote\n"
     ]
    },
    {
     "name": "stderr",
     "output_type": "stream",
     "text": [
      " 28%|██▊       | 28/100 [04:33<11:15,  9.38s/it]"
     ]
    },
    {
     "name": "stdout",
     "output_type": "stream",
     "text": [
      "\n",
      "Scraping book: Beneath the Wheel\n",
      "Scraping URL: https://www.goodreads.com/book/show/25905.Beneath_the_Wheel\n",
      "Extracted title: Beneath the Wheel\n",
      "Extracted author: Hermann Hesse\n"
     ]
    },
    {
     "name": "stderr",
     "output_type": "stream",
     "text": [
      " 29%|██▉       | 29/100 [04:41<10:43,  9.06s/it]"
     ]
    },
    {
     "name": "stdout",
     "output_type": "stream",
     "text": [
      "\n",
      "Scraping book: The Drifters\n",
      "Scraping URL: https://www.goodreads.com/book/show/42955.The_Drifters\n",
      "Extracted title: The Drifters\n",
      "Extracted author: James A. Michener\n"
     ]
    },
    {
     "name": "stderr",
     "output_type": "stream",
     "text": [
      " 30%|███       | 30/100 [04:50<10:37,  9.11s/it]"
     ]
    },
    {
     "name": "stdout",
     "output_type": "stream",
     "text": [
      "\n",
      "Scraping book: Ringworld (Ringworld, #1)\n",
      "Scraping URL: https://www.goodreads.com/book/show/61179.Ringworld\n",
      "Extracted title: Ringworld\n",
      "Extracted author: Larry Niven\n"
     ]
    },
    {
     "name": "stderr",
     "output_type": "stream",
     "text": [
      " 31%|███       | 31/100 [04:58<09:59,  8.69s/it]"
     ]
    },
    {
     "name": "stdout",
     "output_type": "stream",
     "text": [
      "\n",
      "Scraping book: The Golden Bowl\n",
      "Scraping URL: https://www.goodreads.com/book/show/259020.The_Golden_Bowl\n",
      "Extracted title: The Golden Bowl\n",
      "Extracted author: Henry James\n"
     ]
    },
    {
     "name": "stderr",
     "output_type": "stream",
     "text": [
      " 32%|███▏      | 32/100 [05:06<09:47,  8.64s/it]"
     ]
    },
    {
     "name": "stdout",
     "output_type": "stream",
     "text": [
      "\n",
      "Scraping book: The Dark Is Rising (The Dark is Rising, #2)\n",
      "Scraping URL: https://www.goodreads.com/book/show/210329.The_Dark_Is_Rising\n",
      "Extracted title: The Dark Is Rising\n",
      "Extracted author: Susan Cooper\n"
     ]
    },
    {
     "name": "stderr",
     "output_type": "stream",
     "text": [
      " 33%|███▎      | 33/100 [05:13<09:04,  8.13s/it]"
     ]
    },
    {
     "name": "stdout",
     "output_type": "stream",
     "text": [
      "\n",
      "Scraping book: Gateway (Heechee Saga, #1)\n",
      "Scraping URL: https://www.goodreads.com/book/show/218427.Gateway\n",
      "Extracted title: Gateway\n",
      "Extracted author: Frederik Pohl\n"
     ]
    },
    {
     "name": "stderr",
     "output_type": "stream",
     "text": [
      " 34%|███▍      | 34/100 [05:21<08:56,  8.13s/it]"
     ]
    },
    {
     "name": "stdout",
     "output_type": "stream",
     "text": [
      "\n",
      "Scraping book: Giovanni’s Room\n",
      "Scraping URL: https://www.goodreads.com/book/show/406235.Giovanni_s_Room\n",
      "Extracted title: Giovanni’s Room\n",
      "Extracted author: James Baldwin\n"
     ]
    },
    {
     "name": "stderr",
     "output_type": "stream",
     "text": [
      " 35%|███▌      | 35/100 [05:31<09:11,  8.49s/it]"
     ]
    },
    {
     "name": "stdout",
     "output_type": "stream",
     "text": [
      "\n",
      "Scraping book: Presumed Innocent (Kindle County Legal Thriller, #1)\n",
      "Scraping URL: https://www.goodreads.com/book/show/425029.Presumed_Innocent\n",
      "Extracted title: Presumed Innocent\n",
      "Extracted author: Scott Turow\n"
     ]
    },
    {
     "name": "stderr",
     "output_type": "stream",
     "text": [
      " 36%|███▌      | 36/100 [05:39<08:50,  8.29s/it]"
     ]
    },
    {
     "name": "stdout",
     "output_type": "stream",
     "text": [
      "\n",
      "Scraping book: U.S.A.: The 42nd Parallel / 1919 / The Big Money\n",
      "Scraping URL: https://www.goodreads.com/book/show/261441.U_S_A_\n",
      "Extracted title: U.S.A.: The 42nd Parallel / 1919 / The Big Money\n",
      "Extracted author: John Dos Passos\n"
     ]
    },
    {
     "name": "stderr",
     "output_type": "stream",
     "text": [
      " 37%|███▋      | 37/100 [05:49<09:30,  9.05s/it]"
     ]
    },
    {
     "name": "stdout",
     "output_type": "stream",
     "text": [
      "\n",
      "Scraping book: Dead Man Walking: The Eyewitness Account Of The Death Penalty That Sparked a National Debate\n",
      "Scraping URL: https://www.goodreads.com/book/show/133793.Dead_Man_Walking\n",
      "Extracted title: Dead Man Walking: The Eyewitness Account Of The Death Penalty That Sparked a National Debate\n",
      "Extracted author: Helen Prejean\n"
     ]
    },
    {
     "name": "stderr",
     "output_type": "stream",
     "text": [
      " 38%|███▊      | 38/100 [06:01<10:18,  9.97s/it]"
     ]
    },
    {
     "name": "stdout",
     "output_type": "stream",
     "text": [
      "\n",
      "Scraping book: The Go-Between\n",
      "Scraping URL: https://www.goodreads.com/book/show/258079.The_Go_Between\n",
      "Extracted title: The Go-Between\n",
      "Extracted author: L.P. Hartley\n"
     ]
    },
    {
     "name": "stderr",
     "output_type": "stream",
     "text": [
      " 39%|███▉      | 39/100 [06:13<10:28, 10.30s/it]"
     ]
    },
    {
     "name": "stdout",
     "output_type": "stream",
     "text": [
      "\n",
      "Scraping book: Le Grand Meaulnes\n",
      "Scraping URL: https://www.goodreads.com/book/show/794779.Le_Grand_Meaulnes\n",
      "Extracted title: Le Grand Meaulnes\n",
      "Extracted author: Alain-Fournier\n"
     ]
    },
    {
     "name": "stderr",
     "output_type": "stream",
     "text": [
      " 40%|████      | 40/100 [06:23<10:21, 10.36s/it]"
     ]
    },
    {
     "name": "stdout",
     "output_type": "stream",
     "text": [
      "\n",
      "Scraping book: Alanna: The First Adventure (Song of the Lioness, #1)\n",
      "Scraping URL: https://www.goodreads.com/book/show/13831.Alanna\n",
      "Extracted title: Alanna: The First Adventure\n",
      "Extracted author: Tamora Pierce\n"
     ]
    },
    {
     "name": "stderr",
     "output_type": "stream",
     "text": [
      " 41%|████      | 41/100 [06:34<10:29, 10.67s/it]"
     ]
    },
    {
     "name": "stdout",
     "output_type": "stream",
     "text": [
      "\n",
      "Scraping book: Camera Lucida: Reflections on Photography\n",
      "Scraping URL: https://www.goodreads.com/book/show/497164.Camera_Lucida\n",
      "Extracted title: Camera Lucida: Reflections on Photography\n",
      "Extracted author: Roland Barthes\n"
     ]
    },
    {
     "name": "stderr",
     "output_type": "stream",
     "text": [
      " 42%|████▏     | 42/100 [06:47<10:49, 11.20s/it]"
     ]
    },
    {
     "name": "stdout",
     "output_type": "stream",
     "text": [
      "\n",
      "Scraping book: The White Album\n",
      "Scraping URL: https://www.goodreads.com/book/show/421.The_White_Album\n",
      "Extracted title: The White Album\n",
      "Extracted author: Joan Didion\n"
     ]
    },
    {
     "name": "stderr",
     "output_type": "stream",
     "text": [
      " 43%|████▎     | 43/100 [06:59<10:50, 11.41s/it]"
     ]
    },
    {
     "name": "stdout",
     "output_type": "stream",
     "text": [
      "\n",
      "Scraping book: A Fan's Notes (A Fan's Notes, #1)\n",
      "Scraping URL: https://www.goodreads.com/book/show/774032.A_Fan_s_Notes\n",
      "Extracted title: A Fan's Notes\n",
      "Extracted author: Frederick Exley\n"
     ]
    },
    {
     "name": "stderr",
     "output_type": "stream",
     "text": [
      " 44%|████▍     | 44/100 [07:09<10:25, 11.17s/it]"
     ]
    },
    {
     "name": "stdout",
     "output_type": "stream",
     "text": [
      "\n",
      "Scraping book: The Road Less Traveled: A New Psychology of Love, Traditional Values and Spiritual Growth\n",
      "Scraping URL: https://www.goodreads.com/book/show/347852.The_Road_Less_Traveled\n",
      "Extracted title: The Road Less Traveled: A New Psychology of Love, Traditional Values and Spiritual Growth\n",
      "Extracted author: M. Scott Peck\n"
     ]
    },
    {
     "name": "stderr",
     "output_type": "stream",
     "text": [
      " 45%|████▌     | 45/100 [07:20<10:00, 10.91s/it]"
     ]
    },
    {
     "name": "stdout",
     "output_type": "stream",
     "text": [
      "\n",
      "Scraping book: The Fall of Freddie the Leaf: A Story of Life for All Ages\n",
      "Scraping URL: https://www.goodreads.com/book/show/841110.The_Fall_of_Freddie_the_Leaf\n",
      "Extracted title: The Fall of Freddie the Leaf: A Story of Life for All Ages\n",
      "Extracted author: Leo F. Buscaglia\n"
     ]
    },
    {
     "name": "stderr",
     "output_type": "stream",
     "text": [
      " 46%|████▌     | 46/100 [07:39<12:05, 13.43s/it]"
     ]
    },
    {
     "name": "stdout",
     "output_type": "stream",
     "text": [
      "\n",
      "Scraping book: River God (Ancient Egypt, #1)\n",
      "Scraping URL: https://www.goodreads.com/book/show/429138.River_God\n",
      "Extracted title: River God\n",
      "Extracted author: Wilbur Smith\n"
     ]
    },
    {
     "name": "stderr",
     "output_type": "stream",
     "text": [
      " 47%|████▋     | 47/100 [07:49<11:00, 12.46s/it]"
     ]
    },
    {
     "name": "stdout",
     "output_type": "stream",
     "text": [
      "\n",
      "Scraping book: The White Hotel\n",
      "Scraping URL: https://www.goodreads.com/book/show/46087.The_White_Hotel\n",
      "Extracted title: The White Hotel\n",
      "Extracted author: D.M. Thomas\n"
     ]
    },
    {
     "name": "stderr",
     "output_type": "stream",
     "text": [
      " 48%|████▊     | 48/100 [08:02<10:52, 12.54s/it]"
     ]
    },
    {
     "name": "stdout",
     "output_type": "stream",
     "text": [
      "\n",
      "Scraping book: Travels with My Aunt\n",
      "Scraping URL: https://www.goodreads.com/book/show/48858.Travels_with_My_Aunt\n",
      "Extracted title: Travels with My Aunt\n",
      "Extracted author: Graham Greene\n"
     ]
    },
    {
     "name": "stderr",
     "output_type": "stream",
     "text": [
      " 49%|████▉     | 49/100 [08:20<12:01, 14.14s/it]"
     ]
    },
    {
     "name": "stdout",
     "output_type": "stream",
     "text": [
      "\n",
      "Scraping book: Embers\n",
      "Scraping URL: https://www.goodreads.com/book/show/783505.Embers\n",
      "Extracted title: Embers\n",
      "Extracted author: Sándor Márai\n"
     ]
    },
    {
     "name": "stderr",
     "output_type": "stream",
     "text": [
      " 50%|█████     | 50/100 [08:29<10:30, 12.62s/it]"
     ]
    },
    {
     "name": "stdout",
     "output_type": "stream",
     "text": [
      "\n",
      "Scraping book: Hogfather\n",
      "Scraping URL: https://www.goodreads.com/book/show/34532.Hogfather\n",
      "Extracted title: Hogfather\n",
      "Extracted author: Terry Pratchett\n"
     ]
    },
    {
     "name": "stderr",
     "output_type": "stream",
     "text": [
      " 51%|█████     | 51/100 [08:42<10:25, 12.77s/it]"
     ]
    },
    {
     "name": "stdout",
     "output_type": "stream",
     "text": [
      "\n",
      "Scraping book: Being There\n",
      "Scraping URL: https://www.goodreads.com/book/show/677877.Being_There\n",
      "Extracted title: Being There\n",
      "Extracted author: Jerzy Kosiński\n"
     ]
    },
    {
     "name": "stderr",
     "output_type": "stream",
     "text": [
      " 52%|█████▏    | 52/100 [08:55<10:12, 12.76s/it]"
     ]
    },
    {
     "name": "stdout",
     "output_type": "stream",
     "text": [
      "\n",
      "Scraping book: Parable of the Sower (Earthseed, #1)\n",
      "Scraping URL: https://www.goodreads.com/book/show/52397.Parable_of_the_Sower\n",
      "Extracted title: Parable of the Sower\n",
      "Extracted author: Octavia E. Butler\n"
     ]
    },
    {
     "name": "stderr",
     "output_type": "stream",
     "text": [
      " 53%|█████▎    | 53/100 [09:05<09:26, 12.05s/it]"
     ]
    },
    {
     "name": "stdout",
     "output_type": "stream",
     "text": [
      "\n",
      "Scraping book: Cane\n",
      "Scraping URL: https://www.goodreads.com/book/show/765172.Cane\n",
      "Extracted title: Cane\n",
      "Extracted author: Jean Toomer\n"
     ]
    },
    {
     "name": "stderr",
     "output_type": "stream",
     "text": [
      " 54%|█████▍    | 54/100 [09:16<08:53, 11.59s/it]"
     ]
    },
    {
     "name": "stdout",
     "output_type": "stream",
     "text": [
      "\n",
      "Scraping book: The Body in the Library (Miss Marple, #2)\n",
      "Scraping URL: https://www.goodreads.com/book/show/16319.The_Body_in_the_Library\n",
      "Extracted title: The Body in the Library\n",
      "Extracted author: Agatha Christie\n"
     ]
    },
    {
     "name": "stderr",
     "output_type": "stream",
     "text": [
      " 55%|█████▌    | 55/100 [09:28<08:47, 11.72s/it]"
     ]
    },
    {
     "name": "stdout",
     "output_type": "stream",
     "text": [
      "\n",
      "Scraping book: Nobody's Fool (Sully #1)\n",
      "Scraping URL: https://www.goodreads.com/book/show/659388.Nobody_s_Fool\n",
      "Extracted title: Nobody's Fool\n",
      "Extracted author: Richard Russo\n"
     ]
    },
    {
     "name": "stderr",
     "output_type": "stream",
     "text": [
      " 56%|█████▌    | 56/100 [09:37<08:06, 11.06s/it]"
     ]
    },
    {
     "name": "stdout",
     "output_type": "stream",
     "text": [
      "\n",
      "Scraping book: Sphere\n",
      "Scraping URL: https://www.goodreads.com/book/show/455373.Sphere\n",
      "Extracted title: Sphere\n",
      "Extracted author: Michael Crichton\n"
     ]
    },
    {
     "name": "stderr",
     "output_type": "stream",
     "text": [
      " 57%|█████▋    | 57/100 [09:48<07:48, 10.89s/it]"
     ]
    },
    {
     "name": "stdout",
     "output_type": "stream",
     "text": [
      "\n",
      "Scraping book: Rilla of Ingleside (Anne of Green Gables, #8)\n",
      "Scraping URL: https://www.goodreads.com/book/show/433533.Rilla_of_Ingleside\n",
      "Extracted title: Rilla of Ingleside\n",
      "Extracted author: L.M. Montgomery\n"
     ]
    },
    {
     "name": "stderr",
     "output_type": "stream",
     "text": [
      " 58%|█████▊    | 58/100 [09:58<07:26, 10.64s/it]"
     ]
    },
    {
     "name": "stdout",
     "output_type": "stream",
     "text": [
      "\n",
      "Scraping book: The Bell\n",
      "Scraping URL: https://www.goodreads.com/book/show/11230.The_Bell\n",
      "Extracted title: The Bell\n",
      "Extracted author: Iris Murdoch\n"
     ]
    },
    {
     "name": "stderr",
     "output_type": "stream",
     "text": [
      " 59%|█████▉    | 59/100 [10:06<06:44,  9.86s/it]"
     ]
    },
    {
     "name": "stdout",
     "output_type": "stream",
     "text": [
      "\n",
      "Scraping book: The Day of the Locust\n",
      "Scraping URL: https://www.goodreads.com/book/show/113441.The_Day_of_the_Locust\n",
      "Extracted title: The Day of the Locust\n",
      "Extracted author: Nathanael West\n"
     ]
    },
    {
     "name": "stderr",
     "output_type": "stream",
     "text": [
      " 60%|██████    | 60/100 [10:17<06:45, 10.13s/it]"
     ]
    },
    {
     "name": "stdout",
     "output_type": "stream",
     "text": [
      "\n",
      "Scraping book: A House for Mr Biswas\n",
      "Scraping URL: https://www.goodreads.com/book/show/5849.A_House_for_Mr_Biswas\n",
      "Extracted title: A House for Mr Biswas\n",
      "Extracted author: V.S. Naipaul\n"
     ]
    },
    {
     "name": "stderr",
     "output_type": "stream",
     "text": [
      " 61%|██████    | 61/100 [10:27<06:37, 10.19s/it]"
     ]
    },
    {
     "name": "stdout",
     "output_type": "stream",
     "text": [
      "\n",
      "Scraping book: The Invention of Morel\n",
      "Scraping URL: https://www.goodreads.com/book/show/94486.The_Invention_of_Morel\n",
      "Extracted title: The Invention of Morel\n",
      "Extracted author: Adolfo Bioy Casares\n"
     ]
    },
    {
     "name": "stderr",
     "output_type": "stream",
     "text": [
      " 62%|██████▏   | 62/100 [10:37<06:27, 10.19s/it]"
     ]
    },
    {
     "name": "stdout",
     "output_type": "stream",
     "text": [
      "\n",
      "Scraping book: Cruddy\n",
      "Scraping URL: https://www.goodreads.com/book/show/29015.Cruddy\n",
      "Extracted title: Cruddy\n",
      "Extracted author: Lynda Barry\n"
     ]
    },
    {
     "name": "stderr",
     "output_type": "stream",
     "text": [
      " 63%|██████▎   | 63/100 [10:46<06:07,  9.94s/it]"
     ]
    },
    {
     "name": "stdout",
     "output_type": "stream",
     "text": [
      "\n",
      "Scraping book: Hocus Pocus\n",
      "Scraping URL: https://www.goodreads.com/book/show/9589.Hocus_Pocus\n",
      "Extracted title: Hocus Pocus\n",
      "Extracted author: Kurt Vonnegut Jr.\n"
     ]
    },
    {
     "name": "stderr",
     "output_type": "stream",
     "text": [
      " 64%|██████▍   | 64/100 [10:56<05:51,  9.75s/it]"
     ]
    },
    {
     "name": "stdout",
     "output_type": "stream",
     "text": [
      "\n",
      "Scraping book: Revelation Space\n",
      "Scraping URL: https://www.goodreads.com/book/show/89187.Revelation_Space\n",
      "Extracted title: Revelation Space\n",
      "Extracted author: Alastair Reynolds\n"
     ]
    },
    {
     "name": "stderr",
     "output_type": "stream",
     "text": [
      " 65%|██████▌   | 65/100 [11:05<05:36,  9.63s/it]"
     ]
    },
    {
     "name": "stdout",
     "output_type": "stream",
     "text": [
      "\n",
      "Scraping book: La Prisonnière\n",
      "Scraping URL: https://www.goodreads.com/book/show/865124.La_Prisonni_re\n",
      "Extracted title: La Prisonnière\n",
      "Extracted author: Marcel Proust\n"
     ]
    },
    {
     "name": "stderr",
     "output_type": "stream",
     "text": [
      " 66%|██████▌   | 66/100 [11:19<06:12, 10.95s/it]"
     ]
    },
    {
     "name": "stdout",
     "output_type": "stream",
     "text": [
      "\n",
      "Scraping book: Sanctuary\n",
      "Scraping URL: https://www.goodreads.com/book/show/18789.Sanctuary\n",
      "Extracted title: Sanctuary\n",
      "Extracted author: William Faulkner\n"
     ]
    },
    {
     "name": "stderr",
     "output_type": "stream",
     "text": [
      " 67%|██████▋   | 67/100 [11:30<05:56, 10.81s/it]"
     ]
    },
    {
     "name": "stdout",
     "output_type": "stream",
     "text": [
      "\n",
      "Scraping book: Gift from the Sea\n",
      "Scraping URL: https://www.goodreads.com/book/show/77295.Gift_from_the_Sea\n",
      "Extracted title: Gift from the Sea\n",
      "Extracted author: Anne Morrow Lindbergh\n"
     ]
    },
    {
     "name": "stderr",
     "output_type": "stream",
     "text": [
      " 68%|██████▊   | 68/100 [11:37<05:16,  9.89s/it]"
     ]
    },
    {
     "name": "stdout",
     "output_type": "stream",
     "text": [
      "\n",
      "Scraping book: Cathedral\n",
      "Scraping URL: https://www.goodreads.com/book/show/11449.Cathedral\n",
      "Extracted title: Cathedral\n",
      "Extracted author: Raymond Carver\n"
     ]
    },
    {
     "name": "stderr",
     "output_type": "stream",
     "text": [
      " 69%|██████▉   | 69/100 [11:46<04:55,  9.54s/it]"
     ]
    },
    {
     "name": "stdout",
     "output_type": "stream",
     "text": [
      "\n",
      "Scraping book: La ciudad y los perros\n",
      "Scraping URL: https://www.goodreads.com/book/show/60142.La_ciudad_y_los_perros\n",
      "Extracted title: La ciudad y los perros\n",
      "Extracted author: Mario Vargas Llosa\n"
     ]
    },
    {
     "name": "stderr",
     "output_type": "stream",
     "text": [
      " 70%|███████   | 70/100 [11:54<04:34,  9.16s/it]"
     ]
    },
    {
     "name": "stdout",
     "output_type": "stream",
     "text": [
      "\n",
      "Scraping book: To Your Scattered Bodies Go (Riverworld, #1)\n",
      "Scraping URL: https://www.goodreads.com/book/show/189147.To_Your_Scattered_Bodies_Go\n",
      "Extracted title: To Your Scattered Bodies Go\n",
      "Extracted author: Philip José Farmer\n"
     ]
    },
    {
     "name": "stderr",
     "output_type": "stream",
     "text": [
      " 71%|███████   | 71/100 [12:06<04:47,  9.92s/it]"
     ]
    },
    {
     "name": "stdout",
     "output_type": "stream",
     "text": [
      "\n",
      "Scraping book: Maurice\n",
      "Scraping URL: https://www.goodreads.com/book/show/3103.Maurice\n",
      "Extracted title: Maurice\n",
      "Extracted author: E.M. Forster\n"
     ]
    },
    {
     "name": "stderr",
     "output_type": "stream",
     "text": [
      " 72%|███████▏  | 72/100 [12:19<05:02, 10.79s/it]"
     ]
    },
    {
     "name": "stdout",
     "output_type": "stream",
     "text": [
      "\n",
      "Scraping book: Danny the Champion of the World\n",
      "Scraping URL: https://www.goodreads.com/book/show/6690.Danny_the_Champion_of_the_World\n",
      "Extracted title: Danny the Champion of the World\n",
      "Extracted author: Roald Dahl\n"
     ]
    },
    {
     "name": "stderr",
     "output_type": "stream",
     "text": [
      " 73%|███████▎  | 73/100 [12:29<04:44, 10.54s/it]"
     ]
    },
    {
     "name": "stdout",
     "output_type": "stream",
     "text": [
      "\n",
      "Scraping book: Weaveworld\n",
      "Scraping URL: https://www.goodreads.com/book/show/52640.Weaveworld\n",
      "Extracted title: Weaveworld\n",
      "Extracted author: Clive Barker\n"
     ]
    },
    {
     "name": "stderr",
     "output_type": "stream",
     "text": [
      " 74%|███████▍  | 74/100 [12:40<04:38, 10.70s/it]"
     ]
    },
    {
     "name": "stdout",
     "output_type": "stream",
     "text": [
      "\n",
      "Scraping book: The Mote in God's Eye (Moties, #1)\n",
      "Scraping URL: https://www.goodreads.com/book/show/100365.The_Mote_in_God_s_Eye\n",
      "Extracted title: The Mote in God's Eye\n",
      "Extracted author: Larry Niven\n"
     ]
    },
    {
     "name": "stderr",
     "output_type": "stream",
     "text": [
      " 75%|███████▌  | 75/100 [12:49<04:14, 10.20s/it]"
     ]
    },
    {
     "name": "stdout",
     "output_type": "stream",
     "text": [
      "\n",
      "Scraping book: Second Foundation (Foundation, #3)\n",
      "Scraping URL: https://www.goodreads.com/book/show/29580.Second_Foundation\n",
      "Extracted title: Second Foundation\n",
      "Extracted author: Isaac Asimov\n"
     ]
    },
    {
     "name": "stderr",
     "output_type": "stream",
     "text": [
      " 76%|███████▌  | 76/100 [12:59<04:00, 10.04s/it]"
     ]
    },
    {
     "name": "stdout",
     "output_type": "stream",
     "text": [
      "\n",
      "Scraping book: The Club Dumas\n",
      "Scraping URL: https://www.goodreads.com/book/show/7194.The_Club_Dumas\n",
      "Book container not found. Trying alternative selectors...\n",
      "Extracted title: None\n",
      "Extracted author: None\n"
     ]
    },
    {
     "name": "stderr",
     "output_type": "stream",
     "text": [
      " 77%|███████▋  | 77/100 [13:15<04:32, 11.85s/it]"
     ]
    },
    {
     "name": "stdout",
     "output_type": "stream",
     "text": [
      "\n",
      "Scraping book: Murder Must Advertise  (Lord Peter Wimsey, #10)\n",
      "Scraping URL: https://www.goodreads.com/book/show/351559.Murder_Must_Advertise\n",
      "Extracted title: Murder Must Advertise\n",
      "Extracted author: Dorothy L. Sayers\n"
     ]
    },
    {
     "name": "stderr",
     "output_type": "stream",
     "text": [
      " 78%|███████▊  | 78/100 [13:24<04:04, 11.11s/it]"
     ]
    },
    {
     "name": "stdout",
     "output_type": "stream",
     "text": [
      "\n",
      "Scraping book: Madness and Civilization: A History of Insanity in the Age of Reason\n",
      "Scraping URL: https://www.goodreads.com/book/show/51933.Madness_and_Civilization\n",
      "Extracted title: Madness and Civilization: A History of Insanity in the Age of Reason\n",
      "Extracted author: Michel Foucault\n"
     ]
    },
    {
     "name": "stderr",
     "output_type": "stream",
     "text": [
      " 79%|███████▉  | 79/100 [13:34<03:44, 10.70s/it]"
     ]
    },
    {
     "name": "stdout",
     "output_type": "stream",
     "text": [
      "\n",
      "Scraping book: Corduroy\n",
      "Scraping URL: https://www.goodreads.com/book/show/231850.Corduroy\n",
      "Extracted title: Corduroy\n",
      "Extracted author: Don Freeman\n"
     ]
    },
    {
     "name": "stderr",
     "output_type": "stream",
     "text": [
      " 80%|████████  | 80/100 [13:44<03:30, 10.54s/it]"
     ]
    },
    {
     "name": "stdout",
     "output_type": "stream",
     "text": [
      "\n",
      "Scraping book: Straight Man\n",
      "Scraping URL: https://www.goodreads.com/book/show/414298.Straight_Man\n",
      "Extracted title: Straight Man\n",
      "Extracted author: Richard Russo\n"
     ]
    },
    {
     "name": "stderr",
     "output_type": "stream",
     "text": [
      " 81%|████████  | 81/100 [13:59<03:48, 12.04s/it]"
     ]
    },
    {
     "name": "stdout",
     "output_type": "stream",
     "text": [
      "\n",
      "Scraping book: The Lords of Discipline\n",
      "Scraping URL: https://www.goodreads.com/book/show/85443.The_Lords_of_Discipline\n",
      "Extracted title: The Lords of Discipline\n",
      "Extracted author: Pat Conroy\n"
     ]
    },
    {
     "name": "stderr",
     "output_type": "stream",
     "text": [
      " 82%|████████▏ | 82/100 [14:09<03:24, 11.36s/it]"
     ]
    },
    {
     "name": "stdout",
     "output_type": "stream",
     "text": [
      "\n",
      "Scraping book: True Grit\n",
      "Scraping URL: https://www.goodreads.com/book/show/257845.True_Grit\n",
      "Extracted title: True Grit\n",
      "Extracted author: Charles Portis\n"
     ]
    },
    {
     "name": "stderr",
     "output_type": "stream",
     "text": [
      " 83%|████████▎ | 83/100 [14:18<03:02, 10.72s/it]"
     ]
    },
    {
     "name": "stdout",
     "output_type": "stream",
     "text": [
      "\n",
      "Scraping book: The Drawing of the Three (The Dark Tower, #2)\n",
      "Scraping URL: https://www.goodreads.com/book/show/5094.The_Drawing_of_the_Three\n",
      "Extracted title: The Drawing of the Three\n",
      "Extracted author: Stephen        King\n"
     ]
    },
    {
     "name": "stderr",
     "output_type": "stream",
     "text": [
      " 84%|████████▍ | 84/100 [14:27<02:42, 10.15s/it]"
     ]
    },
    {
     "name": "stdout",
     "output_type": "stream",
     "text": [
      "\n",
      "Scraping book: Decline and Fall\n",
      "Scraping URL: https://www.goodreads.com/book/show/30929.Decline_and_Fall\n",
      "Extracted title: Decline and Fall\n",
      "Extracted author: Evelyn Waugh\n"
     ]
    },
    {
     "name": "stderr",
     "output_type": "stream",
     "text": [
      " 85%|████████▌ | 85/100 [14:35<02:22,  9.51s/it]"
     ]
    },
    {
     "name": "stdout",
     "output_type": "stream",
     "text": [
      "\n",
      "Scraping book: Jacob Have I Loved\n",
      "Scraping URL: https://www.goodreads.com/book/show/337058.Jacob_Have_I_Loved\n",
      "Extracted title: Jacob Have I Loved\n",
      "Extracted author: Katherine Paterson\n"
     ]
    },
    {
     "name": "stderr",
     "output_type": "stream",
     "text": [
      " 86%|████████▌ | 86/100 [14:45<02:13,  9.56s/it]"
     ]
    },
    {
     "name": "stdout",
     "output_type": "stream",
     "text": [
      "\n",
      "Scraping book: The Second Chronicles of Thomas Covenant (The Second Chronicles of Thomas Covenant #1-3)\n",
      "Scraping URL: https://www.goodreads.com/book/show/228991.The_Second_Chronicles_of_Thomas_Covenant\n",
      "Extracted title: The Second Chronicles of Thomas Covenant\n",
      "Extracted author: Stephen R. Donaldson\n"
     ]
    },
    {
     "name": "stderr",
     "output_type": "stream",
     "text": [
      " 87%|████████▋ | 87/100 [14:54<02:02,  9.44s/it]"
     ]
    },
    {
     "name": "stdout",
     "output_type": "stream",
     "text": [
      "\n",
      "Scraping book: Go Tell It on the Mountain\n",
      "Scraping URL: https://www.goodreads.com/book/show/17143.Go_Tell_It_on_the_Mountain\n",
      "Extracted title: Go Tell It on the Mountain\n",
      "Extracted author: James Baldwin\n"
     ]
    },
    {
     "name": "stderr",
     "output_type": "stream",
     "text": [
      " 88%|████████▊ | 88/100 [15:04<01:55,  9.64s/it]"
     ]
    },
    {
     "name": "stdout",
     "output_type": "stream",
     "text": [
      "\n",
      "Scraping book: Forever...\n",
      "Scraping URL: https://www.goodreads.com/book/show/37743.Forever_\n",
      "Extracted title: Forever...\n",
      "Extracted author: Judy Blume\n"
     ]
    },
    {
     "name": "stderr",
     "output_type": "stream",
     "text": [
      " 89%|████████▉ | 89/100 [15:13<01:43,  9.41s/it]"
     ]
    },
    {
     "name": "stdout",
     "output_type": "stream",
     "text": [
      "\n",
      "Scraping book: The Mother Tongue: English and How It Got That Way\n",
      "Scraping URL: https://www.goodreads.com/book/show/29.The_Mother_Tongue\n",
      "Extracted title: The Mother Tongue: English and How It Got That Way\n",
      "Extracted author: Bill Bryson\n"
     ]
    },
    {
     "name": "stderr",
     "output_type": "stream",
     "text": [
      " 90%|█████████ | 90/100 [15:25<01:40, 10.07s/it]"
     ]
    },
    {
     "name": "stdout",
     "output_type": "stream",
     "text": [
      "\n",
      "Scraping book: The Story of Ferdinand\n",
      "Scraping URL: https://www.goodreads.com/book/show/773951.The_Story_of_Ferdinand\n",
      "Extracted title: The Story of Ferdinand\n",
      "Extracted author: Munro Leaf\n"
     ]
    },
    {
     "name": "stderr",
     "output_type": "stream",
     "text": [
      " 91%|█████████ | 91/100 [15:35<01:31, 10.11s/it]"
     ]
    },
    {
     "name": "stdout",
     "output_type": "stream",
     "text": [
      "\n",
      "Scraping book: Replay\n",
      "Scraping URL: https://www.goodreads.com/book/show/341735.Replay\n",
      "Extracted title: Replay\n",
      "Extracted author: Ken Grimwood\n"
     ]
    },
    {
     "name": "stderr",
     "output_type": "stream",
     "text": [
      " 92%|█████████▏| 92/100 [15:46<01:23, 10.39s/it]"
     ]
    },
    {
     "name": "stdout",
     "output_type": "stream",
     "text": [
      "\n",
      "Scraping book: We the Living\n",
      "Scraping URL: https://www.goodreads.com/book/show/668.We_the_Living\n",
      "Extracted title: We the Living\n",
      "Extracted author: Ayn Rand\n"
     ]
    },
    {
     "name": "stderr",
     "output_type": "stream",
     "text": [
      " 93%|█████████▎| 93/100 [15:57<01:13, 10.55s/it]"
     ]
    },
    {
     "name": "stdout",
     "output_type": "stream",
     "text": [
      "\n",
      "Scraping book: The Devil's Arithmetic\n",
      "Scraping URL: https://www.goodreads.com/book/show/91357.The_Devil_s_Arithmetic\n",
      "Extracted title: The Devil's Arithmetic\n",
      "Extracted author: Jane Yolen\n"
     ]
    },
    {
     "name": "stderr",
     "output_type": "stream",
     "text": [
      " 94%|█████████▍| 94/100 [16:07<01:01, 10.31s/it]"
     ]
    },
    {
     "name": "stdout",
     "output_type": "stream",
     "text": [
      "\n",
      "Scraping book: The Haj\n",
      "Scraping URL: https://www.goodreads.com/book/show/42691.The_Haj\n",
      "Extracted title: The Haj\n",
      "Extracted author: Leon Uris\n"
     ]
    },
    {
     "name": "stderr",
     "output_type": "stream",
     "text": [
      " 95%|█████████▌| 95/100 [16:20<00:56, 11.35s/it]"
     ]
    },
    {
     "name": "stdout",
     "output_type": "stream",
     "text": [
      "\n",
      "Scraping book: Moon Palace\n",
      "Scraping URL: https://www.goodreads.com/book/show/447.Moon_Palace\n",
      "Extracted title: Moon Palace\n",
      "Extracted author: Paul Auster\n"
     ]
    },
    {
     "name": "stderr",
     "output_type": "stream",
     "text": [
      " 96%|█████████▌| 96/100 [16:30<00:43, 10.83s/it]"
     ]
    },
    {
     "name": "stdout",
     "output_type": "stream",
     "text": [
      "\n",
      "Scraping book: The Seat of the Soul\n",
      "Scraping URL: https://www.goodreads.com/book/show/119760.The_Seat_of_the_Soul\n",
      "Extracted title: The Seat of the Soul\n",
      "Extracted author: Gary Zukav\n"
     ]
    },
    {
     "name": "stderr",
     "output_type": "stream",
     "text": [
      " 97%|█████████▋| 97/100 [16:40<00:31, 10.55s/it]"
     ]
    },
    {
     "name": "stdout",
     "output_type": "stream",
     "text": [
      "\n",
      "Scraping book: The History of Sexuality, Volume 1: An Introduction\n",
      "Scraping URL: https://www.goodreads.com/book/show/1875.The_History_of_Sexuality_Volume_1\n",
      "Extracted title: The History of Sexuality, Volume 1: An Introduction\n",
      "Extracted author: Michel Foucault\n"
     ]
    },
    {
     "name": "stderr",
     "output_type": "stream",
     "text": [
      " 98%|█████████▊| 98/100 [16:55<00:23, 11.80s/it]"
     ]
    },
    {
     "name": "stdout",
     "output_type": "stream",
     "text": [
      "\n",
      "Scraping book: A Fire Upon the Deep (Zones of Thought, #1)\n",
      "Scraping URL: https://www.goodreads.com/book/show/77711.A_Fire_Upon_the_Deep\n",
      "Extracted title: A Fire Upon the Deep\n",
      "Extracted author: Vernor Vinge\n"
     ]
    },
    {
     "name": "stderr",
     "output_type": "stream",
     "text": [
      " 99%|█████████▉| 99/100 [17:07<00:11, 11.95s/it]"
     ]
    },
    {
     "name": "stdout",
     "output_type": "stream",
     "text": [
      "\n",
      "Scraping book: The Blind Owl\n",
      "Scraping URL: https://www.goodreads.com/book/show/45967.The_Blind_Owl\n",
      "Extracted title: The Blind Owl\n",
      "Extracted author: Sadegh Hedayat\n"
     ]
    },
    {
     "name": "stderr",
     "output_type": "stream",
     "text": [
      "100%|██████████| 100/100 [17:17<00:00, 10.37s/it]"
     ]
    },
    {
     "name": "stdout",
     "output_type": "stream",
     "text": [
      "\n",
      "Dataset saved to books_dataset.csv\n",
      "Number of books saved: 100\n",
      "\n",
      "First few entries:\n",
      "                      title                author rating  \\\n",
      "0       Motherless Brooklyn       Jonathan Lethem   3.86   \n",
      "1          Follow the River  James Alexander Thom   4.23   \n",
      "2         Fantastic Mr. Fox            Roald Dahl   4.08   \n",
      "3  A Girl of the Limberlost  Gene Stratton-Porter   4.17   \n",
      "4          Love You Forever         Robert Munsch   4.38   \n",
      "\n",
      "                                             summary  \\\n",
      "0  Lionel Essrog is Brooklyn’s very own self-appo...   \n",
      "1  Mary Ingles was twenty-three, happily married,...   \n",
      "2  Fantastic Mr. Fox is on the run! The three mea...   \n",
      "3  Set amid Indiana's vast Limberlost Swamp, this...   \n",
      "4  An extraordinarily different story by Robert M...   \n",
      "\n",
      "                                              genres  \\\n",
      "0  [Fiction, Mystery, Crime, New York, Novels, Au...   \n",
      "1  [Historical Fiction, Fiction, Historical, Adve...   \n",
      "2  [Childrens, Fiction, Fantasy, Classics, Middle...   \n",
      "3  [Classics, Fiction, Young Adult, Historical Fi...   \n",
      "4  [Picture Books, Childrens, Fiction, Classics, ...   \n",
      "\n",
      "                                           cover_url  \\\n",
      "0  https://images-na.ssl-images-amazon.com/images...   \n",
      "1  https://images-na.ssl-images-amazon.com/images...   \n",
      "2  https://images-na.ssl-images-amazon.com/images...   \n",
      "3  https://images-na.ssl-images-amazon.com/images...   \n",
      "4  https://images-na.ssl-images-amazon.com/images...   \n",
      "\n",
      "                                                 url  \n",
      "0  https://www.goodreads.com/book/show/328854.Mot...  \n",
      "1  https://www.goodreads.com/book/show/138872.Fol...  \n",
      "2  https://www.goodreads.com/book/show/6693.Fanta...  \n",
      "3  https://www.goodreads.com/book/show/17567.A_Gi...  \n",
      "4  https://www.goodreads.com/book/show/310259.Lov...  \n"
     ]
    },
    {
     "name": "stderr",
     "output_type": "stream",
     "text": [
      "\n"
     ]
    }
   ],
   "source": [
    "if __name__ == \"__main__\":\n",
    "    scraper = ImprovedBookScraper()\n",
    "    \n",
    "    # Example Goodreads list URL - replace with your actual URL\n",
    "    list_url = \"https://www.goodreads.com/list/show/6.Best_Books_of_the_20th_Century?page=11\"\n",
    "    \n",
    "    # Scrape books\n",
    "    books = scraper.scrape_goodreads_list(list_url, num_books=100)\n",
    "    \n",
    "    # Save to CSV\n",
    "    scraper.save_to_csv()"
   ]
  },
  {
   "cell_type": "code",
   "execution_count": 20,
   "metadata": {},
   "outputs": [
    {
     "name": "stdout",
     "output_type": "stream",
     "text": [
      "\n",
      "=== Dataset Overview ===\n",
      "Total number of books: 5\n",
      "Columns available: title, author, rating, summary, genres, url\n",
      "\n",
      "First few books:\n",
      "----------------\n",
      "\n",
      "Book 1:\n",
      "Title: The Girl with the Dragon Tattoo\n",
      "Author: Stieg Larsson\n",
      "Rating: 4.17\n",
      "--------------------------------------------------\n",
      "\n",
      "Book 2:\n",
      "Title: And Then There Were None\n",
      "Author: Agatha Christie\n",
      "Rating: 4.28\n",
      "--------------------------------------------------\n",
      "\n",
      "Book 3:\n",
      "Title: Angels & Demons\n",
      "Author: Dan    Brown\n",
      "Rating: 3.95\n",
      "--------------------------------------------------\n",
      "\n",
      "Book 4:\n",
      "Title: Rebecca\n",
      "Author: Daphne du Maurier\n",
      "Rating: 4.25\n",
      "--------------------------------------------------\n",
      "\n",
      "Book 5:\n",
      "Title: In Cold Blood\n",
      "Author: Truman Capote\n",
      "Rating: 4.09\n",
      "--------------------------------------------------\n",
      "\n",
      "=== Detailed Book Information ===\n",
      "Title: The Girl with the Dragon Tattoo\n",
      "Author: Stieg Larsson\n",
      "Rating: 4.17\n",
      "Genres: ['Fiction', 'Mystery', 'Thriller', 'Crime', 'Mystery Thriller', 'Suspense', 'Contemporary']\n",
      "\n",
      "Summary:\n",
      "Harriet Vanger, a scion of one of Sweden’s wealthiest families\n",
      "disappeared over forty years ago. All these years later, her aged\n",
      "uncle continues to seek the truth. He hires Mikael Blomkvist, a\n",
      "crusading journalist recently trapped by a libel conviction, to\n",
      "investigate. He is aided by the pierced and tattooed punk prodigy\n",
      "Lisbeth Salander. Together they tap into a vein of unfathomable\n",
      "iniquity and astonishing corruption.An international publishing\n",
      "sensation, Stieg Larsson’s The Girl with the Dragon Tattoo combines\n",
      "murder mystery, family saga, love story, and financial intrigue into\n",
      "one satisfyingly complex and entertainingly atmospheric novel.\n",
      "--------------------------------------------------\n"
     ]
    }
   ],
   "source": [
    "import pandas as pd\n",
    "from tabulate import tabulate\n",
    "import textwrap\n",
    "\n",
    "class BookDataDisplay:\n",
    "    def __init__(self, csv_file='books_dataset.csv'):\n",
    "        self.df = pd.read_csv(csv_file)\n",
    "        \n",
    "    def print_basic_info(self):\n",
    "        \"\"\"Print basic dataset information\"\"\"\n",
    "        print(\"\\n=== Dataset Overview ===\")\n",
    "        print(f\"Total number of books: {len(self.df)}\")\n",
    "        print(f\"Columns available: {', '.join(self.df.columns)}\")\n",
    "        print(\"\\nFirst few books:\")\n",
    "        print(\"----------------\")\n",
    "        \n",
    "        for idx, row in self.df.head().iterrows():\n",
    "            print(f\"\\nBook {idx + 1}:\")\n",
    "            print(f\"Title: {row['title']}\")\n",
    "            print(f\"Author: {row['author']}\")\n",
    "            if 'rating' in row:\n",
    "                print(f\"Rating: {row['rating']}\")\n",
    "            print(\"-\" * 50)\n",
    "    \n",
    "    def print_detailed_book(self, index):\n",
    "        \"\"\"Print detailed information for a specific book\"\"\"\n",
    "        try:\n",
    "            book = self.df.iloc[index]\n",
    "            print(\"\\n=== Detailed Book Information ===\")\n",
    "            print(f\"Title: {book['title']}\")\n",
    "            print(f\"Author: {book['author']}\")\n",
    "            if 'rating' in book:\n",
    "                print(f\"Rating: {book['rating']}\")\n",
    "            if 'genres' in book:\n",
    "                print(f\"Genres: {book['genres']}\")\n",
    "            print(\"\\nSummary:\")\n",
    "            if 'summary' in book and isinstance(book['summary'], str):\n",
    "                # Wrap summary text for better readability\n",
    "                wrapped_summary = textwrap.fill(book['summary'], width=70)\n",
    "                print(wrapped_summary)\n",
    "            print(\"-\" * 50)\n",
    "        except IndexError:\n",
    "            print(f\"Error: Book index {index} not found in dataset\")\n",
    "    \n",
    "    def print_tabulated(self, columns=None, max_rows=10):\n",
    "        \"\"\"Print data in a neat table format\"\"\"\n",
    "        if columns is None:\n",
    "            columns = ['title', 'author', 'rating']\n",
    "        \n",
    "        # Select only existing columns\n",
    "        available_columns = [col for col in columns if col in self.df.columns]\n",
    "        \n",
    "        print(\"\\n=== Books Table ===\")\n",
    "        print(tabulate(\n",
    "            self.df[available_columns].head(max_rows), \n",
    "            headers='keys', \n",
    "            tablefmt='grid',\n",
    "            showindex=True\n",
    "        ))\n",
    "    \n",
    "    def search_books(self, keyword, column='title'):\n",
    "        \"\"\"Search for books containing a keyword in specified column\"\"\"\n",
    "        if column not in self.df.columns:\n",
    "            print(f\"Error: Column '{column}' not found in dataset\")\n",
    "            return\n",
    "        \n",
    "        matches = self.df[self.df[column].str.contains(keyword, case=False, na=False)]\n",
    "        \n",
    "        print(f\"\\n=== Search Results for '{keyword}' in {column} ===\")\n",
    "        print(f\"Found {len(matches)} matches:\")\n",
    "        \n",
    "        for idx, book in matches.iterrows():\n",
    "            print(f\"\\nMatch {idx + 1}:\")\n",
    "            print(f\"Title: {book['title']}\")\n",
    "            print(f\"Author: {book['author']}\")\n",
    "            if 'rating' in book:\n",
    "                print(f\"Rating: {book['rating']}\")\n",
    "            print(\"-\" * 30)\n",
    "\n",
    "# Example usage\n",
    "if __name__ == \"__main__\":\n",
    "    display = BookDataDisplay('books_dataset.csv')\n",
    "    \n",
    "    # Print basic dataset information\n",
    "    display.print_basic_info()\n",
    "    \n",
    "    # # Print detailed information for first book\n",
    "    display.print_detailed_book(0)\n",
    "    \n",
    "    # # Print tabulated data\n",
    "    # display.print_tabulated()\n",
    "    \n",
    "    # # Search for books\n",
    "    # display.search_books('fantasy', 'genres')"
   ]
  },
  {
   "cell_type": "code",
   "execution_count": null,
   "metadata": {},
   "outputs": [],
   "source": []
  }
 ],
 "metadata": {
  "kernelspec": {
   "display_name": "base",
   "language": "python",
   "name": "python3"
  },
  "language_info": {
   "codemirror_mode": {
    "name": "ipython",
    "version": 3
   },
   "file_extension": ".py",
   "mimetype": "text/x-python",
   "name": "python",
   "nbconvert_exporter": "python",
   "pygments_lexer": "ipython3",
   "version": "3.11.7"
  }
 },
 "nbformat": 4,
 "nbformat_minor": 2
}
